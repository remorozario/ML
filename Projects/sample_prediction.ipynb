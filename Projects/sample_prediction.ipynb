{
 "cells": [
  {
   "cell_type": "code",
   "execution_count": 1,
   "metadata": {},
   "outputs": [],
   "source": [
    "import pandas as  pd\n",
    "import re\n",
    "from sklearn.model_selection import train_test_split\n",
    "from sklearn.feature_extraction.text import TfidfVectorizer\n",
    "from sklearn.naive_bayes import MultinomialNB\n",
    "from sklearn.metrics import accuracy_score\n",
    "from nltk.corpus import stopwords\n",
    "import nltk"
   ]
  },
  {
   "cell_type": "code",
   "execution_count": 5,
   "metadata": {},
   "outputs": [
    {
     "data": {
      "text/html": [
       "<div>\n",
       "<style scoped>\n",
       "    .dataframe tbody tr th:only-of-type {\n",
       "        vertical-align: middle;\n",
       "    }\n",
       "\n",
       "    .dataframe tbody tr th {\n",
       "        vertical-align: top;\n",
       "    }\n",
       "\n",
       "    .dataframe thead th {\n",
       "        text-align: right;\n",
       "    }\n",
       "</style>\n",
       "<table border=\"1\" class=\"dataframe\">\n",
       "  <thead>\n",
       "    <tr style=\"text-align: right;\">\n",
       "      <th></th>\n",
       "      <th>title</th>\n",
       "      <th>url</th>\n",
       "      <th>published_at</th>\n",
       "      <th>author</th>\n",
       "      <th>publisher</th>\n",
       "      <th>short_description</th>\n",
       "      <th>keywords</th>\n",
       "      <th>header_image</th>\n",
       "      <th>raw_description</th>\n",
       "      <th>description</th>\n",
       "      <th>scraped_at</th>\n",
       "    </tr>\n",
       "  </thead>\n",
       "  <tbody>\n",
       "    <tr>\n",
       "      <th>0</th>\n",
       "      <td>Santoli’s Wednesday market notes: Could Septem...</td>\n",
       "      <td>https://www.cnbc.com/2021/09/29/santolis-wedne...</td>\n",
       "      <td>2021-09-29T17:09:39+0000</td>\n",
       "      <td>Michael Santoli</td>\n",
       "      <td>CNBC</td>\n",
       "      <td>This is the daily notebook of Mike Santoli, CN...</td>\n",
       "      <td>cnbc, Premium, Articles, Investment strategy, ...</td>\n",
       "      <td>https://image.cnbcfm.com/api/v1/image/10694960...</td>\n",
       "      <td>&lt;div class=\"group\"&gt;&lt;p&gt;&lt;em&gt;This is the daily no...</td>\n",
       "      <td>This is the daily notebook of Mike Santoli, CN...</td>\n",
       "      <td>2021-10-30 14:11:23.709372</td>\n",
       "    </tr>\n",
       "    <tr>\n",
       "      <th>1</th>\n",
       "      <td>My take on the early Brexit winners and losers</td>\n",
       "      <td>https://www.cnbc.com/2016/06/24/ian-bremmers-t...</td>\n",
       "      <td>2016-06-24T13:50:48-0400</td>\n",
       "      <td>NaN</td>\n",
       "      <td>CNBC</td>\n",
       "      <td>This commentary originally ran on Facebook. Bo...</td>\n",
       "      <td>Articles, Politics, Europe News, European Cent...</td>\n",
       "      <td>https://fm.cnbc.com/applications/cnbc.com/reso...</td>\n",
       "      <td>NaN</td>\n",
       "      <td>NaN</td>\n",
       "      <td>2021-10-30 14:11:23.820139</td>\n",
       "    </tr>\n",
       "  </tbody>\n",
       "</table>\n",
       "</div>"
      ],
      "text/plain": [
       "                                               title   \n",
       "0  Santoli’s Wednesday market notes: Could Septem...  \\\n",
       "1     My take on the early Brexit winners and losers   \n",
       "\n",
       "                                                 url   \n",
       "0  https://www.cnbc.com/2021/09/29/santolis-wedne...  \\\n",
       "1  https://www.cnbc.com/2016/06/24/ian-bremmers-t...   \n",
       "\n",
       "               published_at           author publisher   \n",
       "0  2021-09-29T17:09:39+0000  Michael Santoli      CNBC  \\\n",
       "1  2016-06-24T13:50:48-0400              NaN      CNBC   \n",
       "\n",
       "                                   short_description   \n",
       "0  This is the daily notebook of Mike Santoli, CN...  \\\n",
       "1  This commentary originally ran on Facebook. Bo...   \n",
       "\n",
       "                                            keywords   \n",
       "0  cnbc, Premium, Articles, Investment strategy, ...  \\\n",
       "1  Articles, Politics, Europe News, European Cent...   \n",
       "\n",
       "                                        header_image   \n",
       "0  https://image.cnbcfm.com/api/v1/image/10694960...  \\\n",
       "1  https://fm.cnbc.com/applications/cnbc.com/reso...   \n",
       "\n",
       "                                     raw_description   \n",
       "0  <div class=\"group\"><p><em>This is the daily no...  \\\n",
       "1                                                NaN   \n",
       "\n",
       "                                         description   \n",
       "0  This is the daily notebook of Mike Santoli, CN...  \\\n",
       "1                                                NaN   \n",
       "\n",
       "                   scraped_at  \n",
       "0  2021-10-30 14:11:23.709372  \n",
       "1  2021-10-30 14:11:23.820139  "
      ]
     },
     "execution_count": 5,
     "metadata": {},
     "output_type": "execute_result"
    }
   ],
   "source": [
    "dataset = pd.read_csv(\"D:\\\\TASK-2\\\\archive\\\\cnbc_news_datase.csv\")\n",
    "dataset.head(2)"
   ]
  },
  {
   "cell_type": "code",
   "execution_count": 7,
   "metadata": {},
   "outputs": [
    {
     "name": "stderr",
     "output_type": "stream",
     "text": [
      "[nltk_data] Downloading package stopwords to\n",
      "[nltk_data]     C:\\Users\\HP\\AppData\\Roaming\\nltk_data...\n",
      "[nltk_data]   Package stopwords is already up-to-date!\n"
     ]
    },
    {
     "data": {
      "text/plain": [
       "True"
      ]
     },
     "execution_count": 7,
     "metadata": {},
     "output_type": "execute_result"
    }
   ],
   "source": [
    "nltk.download('stopwords')"
   ]
  },
  {
   "cell_type": "code",
   "execution_count": 8,
   "metadata": {},
   "outputs": [],
   "source": [
    "stopwords = set(stopwords.words('english'))"
   ]
  },
  {
   "cell_type": "code",
   "execution_count": 10,
   "metadata": {},
   "outputs": [],
   "source": [
    "def preprocess_text(text):\n",
    "    text = text.lower()\n",
    "\n",
    "    text = re.sub(r'[^\\w\\s]', '',text)\n",
    "    text = ' '.join(word for word in text.split() if word not in stopwords)\n",
    "\n",
    "    return text"
   ]
  },
  {
   "cell_type": "code",
   "execution_count": null,
   "metadata": {},
   "outputs": [],
   "source": []
  },
  {
   "cell_type": "code",
   "execution_count": null,
   "metadata": {},
   "outputs": [],
   "source": []
  },
  {
   "cell_type": "code",
   "execution_count": null,
   "metadata": {},
   "outputs": [],
   "source": []
  }
 ],
 "metadata": {
  "kernelspec": {
   "display_name": "env2",
   "language": "python",
   "name": "python3"
  },
  "language_info": {
   "codemirror_mode": {
    "name": "ipython",
    "version": 3
   },
   "file_extension": ".py",
   "mimetype": "text/x-python",
   "name": "python",
   "nbconvert_exporter": "python",
   "pygments_lexer": "ipython3",
   "version": "3.9.13"
  },
  "orig_nbformat": 4
 },
 "nbformat": 4,
 "nbformat_minor": 2
}
